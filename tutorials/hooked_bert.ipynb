{
 "cells": [
  {
   "cell_type": "code",
   "execution_count": 1,
   "metadata": {},
   "outputs": [],
   "source": [
    "# -- Includes parent directory \n",
    "import sys \n",
    "sys.path.append(\"../\")\n",
    "\n",
    "# -- import required libraries\n",
    "import torch \n",
    "from hooked_bert import get_hooker_bert_wrapper"
   ]
  },
  {
   "cell_type": "code",
   "execution_count": 2,
   "metadata": {},
   "outputs": [
    {
     "data": {
      "text/plain": [
       "torch.Size([2, 3, 30522])"
      ]
     },
     "execution_count": 2,
     "metadata": {},
     "output_type": "execute_result"
    }
   ],
   "source": [
    "wrapper = get_hooker_bert_wrapper('roberta')\n",
    "wrapper.set_target_modules()\n",
    "wrapper.register_hooks()\n",
    "\n",
    "input = torch.tensor([[1,2,3], [4,5,6]])\n",
    "output = wrapper.model.forward(input)\n",
    "output.logits.size()"
   ]
  },
  {
   "cell_type": "code",
   "execution_count": 3,
   "metadata": {},
   "outputs": [
    {
     "name": "stdout",
     "output_type": "stream",
     "text": [
      "-----  attn -----\n",
      "0 torch.Size([2, 3, 30522])\n",
      "1 torch.Size([2, 3, 30522])\n",
      "2 torch.Size([2, 3, 30522])\n",
      "3 torch.Size([2, 3, 30522])\n",
      "...\n",
      "-----  mlp -----\n",
      "0 torch.Size([2, 3, 30522])\n",
      "1 torch.Size([2, 3, 30522])\n",
      "2 torch.Size([2, 3, 30522])\n",
      "3 torch.Size([2, 3, 30522])\n",
      "...\n",
      "-----  block -----\n",
      "0 torch.Size([2, 3, 30522])\n",
      "1 torch.Size([2, 3, 30522])\n",
      "2 torch.Size([2, 3, 30522])\n",
      "3 torch.Size([2, 3, 30522])\n",
      "...\n"
     ]
    },
    {
     "name": "stderr",
     "output_type": "stream",
     "text": [
      "/data3/bumjin/debias/tutorials/../hooked_bert.py:72: UserWarning: Implicit dimension choice for softmax has been deprecated. Change the call to include dim=X as an argument.\n",
      "  y = torch.nn.functional.softmax(y)\n"
     ]
    }
   ],
   "source": [
    "results = wrapper.get_hooked_result()\n",
    "results \n",
    "for module in results.keys():\n",
    "    print(f\"-----  {module} -----\")\n",
    "    for layer, layer_results in enumerate(results[module]):\n",
    "        print(layer, layer_results.size())\n",
    "        if layer > 2: \n",
    "            break \n",
    "    print(\"...\")"
   ]
  },
  {
   "attachments": {},
   "cell_type": "markdown",
   "metadata": {},
   "source": [
    "# Tokenizers "
   ]
  },
  {
   "cell_type": "code",
   "execution_count": 4,
   "metadata": {},
   "outputs": [
    {
     "name": "stdout",
     "output_type": "stream",
     "text": [
      "doctor 44914\n"
     ]
    }
   ],
   "source": [
    "# find id for word \n",
    "# find word for id \n",
    "doctor_idx = wrapper.get_index('doctor')\n",
    "word = wrapper.get_vocab(doctor_idx)\n",
    "print(word, doctor_idx)"
   ]
  },
  {
   "cell_type": "code",
   "execution_count": 8,
   "metadata": {},
   "outputs": [
    {
     "name": "stdout",
     "output_type": "stream",
     "text": [
      "3 <unk>\n",
      "{'input_ids': [[0, 19178, 162, 2540, 2]], 'attention_mask': [[1, 1, 1, 1, 1]]}\n"
     ]
    }
   ],
   "source": [
    "# Tokens --> IDS\n",
    "\n",
    "ids = wrapper.tokens_to_ids(['help me please'])\n",
    "print(ids)\n",
    "\n",
    "# for undefined token, return <unk>\n",
    "idx = wrapper.get_index('help me please')\n",
    "word = wrapper.get_vocab(idx)\n",
    "print(idx, word)"
   ]
  },
  {
   "cell_type": "code",
   "execution_count": 10,
   "metadata": {},
   "outputs": [
    {
     "data": {
      "text/plain": [
       "['<pad>', '</s>', '<unk>']"
      ]
     },
     "execution_count": 10,
     "metadata": {},
     "output_type": "execute_result"
    }
   ],
   "source": [
    "# IDS --> Tokens\n",
    "\n",
    "wrapper.ids_to_tokens([1,2,3])"
   ]
  }
 ],
 "metadata": {
  "kernelspec": {
   "display_name": "rudiment",
   "language": "python",
   "name": "python3"
  },
  "language_info": {
   "codemirror_mode": {
    "name": "ipython",
    "version": 3
   },
   "file_extension": ".py",
   "mimetype": "text/x-python",
   "name": "python",
   "nbconvert_exporter": "python",
   "pygments_lexer": "ipython3",
   "version": "3.9.16"
  },
  "orig_nbformat": 4
 },
 "nbformat": 4,
 "nbformat_minor": 2
}
