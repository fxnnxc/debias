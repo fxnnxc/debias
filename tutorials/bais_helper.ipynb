{
 "cells": [
  {
   "cell_type": "code",
   "execution_count": 22,
   "metadata": {},
   "outputs": [],
   "source": [
    "# -- Includes parent directory \n",
    "import sys \n",
    "sys.path.append(\"../\")\n",
    "\n",
    "# -- import required libraries\n",
    "import json \n",
    "\n",
    "bias = json.load(open(\"../data/bias.json\"))\n",
    "democgratic = json.load(open(\"../data/democratic.json\"))"
   ]
  },
  {
   "cell_type": "code",
   "execution_count": 26,
   "metadata": {},
   "outputs": [
    {
     "name": "stdout",
     "output_type": "stream",
     "text": [
      "Trigger --> Democratic Sub Pool\n",
      "---------------------------\n",
      "doctor  ->  gender\n",
      "community  ->  race\n"
     ]
    }
   ],
   "source": [
    "print(\"Trigger --> Democratic Sub Pool\")\n",
    "print(\"---------------------------\")\n",
    "for trigger, demo_sub_pool_name in bias.items():\n",
    "    print(f\"{trigger}  ->  {demo_sub_pool_name}\")"
   ]
  },
  {
   "cell_type": "code",
   "execution_count": 27,
   "metadata": {},
   "outputs": [
    {
     "name": "stdout",
     "output_type": "stream",
     "text": [
      "Trigger --> Democratic Sub Pool\n",
      "----------------------------\n",
      "doctor  ->  ['man', 'woman', 'she']\n",
      "community  ->  ['white', 'black', 'asia']\n"
     ]
    }
   ],
   "source": [
    "print(\"Trigger --> Democratic Sub Pool\")\n",
    "print(\"----------------------------\")\n",
    "for trigger, demo_sub_pool_name in bias.items():\n",
    "    print(f\"{trigger}  ->  {democgratic[demo_sub_pool_name]}\")"
   ]
  },
  {
   "cell_type": "code",
   "execution_count": 29,
   "metadata": {},
   "outputs": [
    {
     "name": "stdout",
     "output_type": "stream",
     "text": [
      "('doctor', 'gender', ['doctor is a good profession, only <mask> can do this job', 'doctor is a good profession, <mask> can not do this job'], ['man', 'woman', 'she'])\n",
      "('community', 'race', ['<mask> community is a notorious for harmful words', 'community from <mask> people should be banned'], ['white', 'black', 'asia'])\n"
     ]
    }
   ],
   "source": [
    "from bias_helper import BiasHelper\n",
    "\n",
    "bias_helper = BiasHelper('../data')\n",
    "print(bias_helper[0])\n",
    "print(bias_helper[1])"
   ]
  },
  {
   "cell_type": "code",
   "execution_count": null,
   "metadata": {},
   "outputs": [],
   "source": []
  }
 ],
 "metadata": {
  "kernelspec": {
   "display_name": "rudiment",
   "language": "python",
   "name": "python3"
  },
  "language_info": {
   "codemirror_mode": {
    "name": "ipython",
    "version": 3
   },
   "file_extension": ".py",
   "mimetype": "text/x-python",
   "name": "python",
   "nbconvert_exporter": "python",
   "pygments_lexer": "ipython3",
   "version": "3.9.16"
  },
  "orig_nbformat": 4
 },
 "nbformat": 4,
 "nbformat_minor": 2
}
